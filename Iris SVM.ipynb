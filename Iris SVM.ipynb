{
 "cells": [
  {
   "cell_type": "code",
   "execution_count": 35,
   "metadata": {
    "collapsed": false
   },
   "outputs": [],
   "source": [
    "import numpy as np\n",
    "import pandas as pd\n",
    "import matplotlib.pyplot as plt\n",
    "import seaborn as sns\n",
    "from sklearn import svm\n",
    "%matplotlib inline"
   ]
  },
  {
   "cell_type": "code",
   "execution_count": 36,
   "metadata": {
    "collapsed": false
   },
   "outputs": [
    {
     "name": "stdout",
     "output_type": "stream",
     "text": [
      "       X    Y    Z    K              Cat\n",
      "89   5.5  2.5  4.0  1.3  Iris-versicolor\n",
      "56   6.3  3.3  4.7  1.6  Iris-versicolor\n",
      "66   5.6  3.0  4.5  1.5  Iris-versicolor\n",
      "40   5.0  3.5  1.3  0.3      Iris-setosa\n",
      "78   6.0  2.9  4.5  1.5  Iris-versicolor\n",
      "95   5.7  3.0  4.2  1.2  Iris-versicolor\n",
      "106  4.9  2.5  4.5  1.7   Iris-virginica\n",
      "90   5.5  2.6  4.4  1.2  Iris-versicolor\n",
      "138  6.0  3.0  4.8  1.8   Iris-virginica\n",
      "98   5.1  2.5  3.0  1.1  Iris-versicolor\n",
      "1    4.9  3.0  1.4  0.2      Iris-setosa\n",
      "108  6.7  2.5  5.8  1.8   Iris-virginica\n",
      "131  7.9  3.8  6.4  2.0   Iris-virginica\n",
      "26   5.0  3.4  1.6  0.4      Iris-setosa\n",
      "82   5.8  2.7  3.9  1.2  Iris-versicolor\n",
      "7    5.0  3.4  1.5  0.2      Iris-setosa\n",
      "46   5.1  3.8  1.6  0.2      Iris-setosa\n",
      "67   5.8  2.7  4.1  1.0  Iris-versicolor\n",
      "0    5.1  3.5  1.4  0.2      Iris-setosa\n",
      "135  7.7  3.0  6.1  2.3   Iris-virginica\n",
      "105  7.6  3.0  6.6  2.1   Iris-virginica\n",
      "101  5.8  2.7  5.1  1.9   Iris-virginica\n",
      "44   5.1  3.8  1.9  0.4      Iris-setosa\n",
      "13   4.3  3.0  1.1  0.1      Iris-setosa\n",
      "140  6.7  3.1  5.6  2.4   Iris-virginica\n",
      "74   6.4  2.9  4.3  1.3  Iris-versicolor\n",
      "38   4.4  3.0  1.3  0.2      Iris-setosa\n",
      "31   5.4  3.4  1.5  0.4      Iris-setosa\n",
      "35   5.0  3.2  1.2  0.2      Iris-setosa\n",
      "75   6.6  3.0  4.4  1.4  Iris-versicolor\n",
      "..   ...  ...  ...  ...              ...\n",
      "127  6.1  3.0  4.9  1.8   Iris-virginica\n",
      "79   5.7  2.6  3.5  1.0  Iris-versicolor\n",
      "39   5.1  3.4  1.5  0.2      Iris-setosa\n",
      "37   4.9  3.1  1.5  0.1      Iris-setosa\n",
      "22   4.6  3.6  1.0  0.2      Iris-setosa\n",
      "117  7.7  3.8  6.7  2.2   Iris-virginica\n",
      "23   5.1  3.3  1.7  0.5      Iris-setosa\n",
      "125  7.2  3.2  6.0  1.8   Iris-virginica\n",
      "148  6.2  3.4  5.4  2.3   Iris-virginica\n",
      "100  6.3  3.3  6.0  2.5   Iris-virginica\n",
      "143  6.8  3.2  5.9  2.3   Iris-virginica\n",
      "36   5.5  3.5  1.3  0.2      Iris-setosa\n",
      "64   5.6  2.9  3.6  1.3  Iris-versicolor\n",
      "146  6.3  2.5  5.0  1.9   Iris-virginica\n",
      "113  5.7  2.5  5.0  2.0   Iris-virginica\n",
      "32   5.2  4.1  1.5  0.1      Iris-setosa\n",
      "97   6.2  2.9  4.3  1.3  Iris-versicolor\n",
      "132  6.4  2.8  5.6  2.2   Iris-virginica\n",
      "99   5.7  2.8  4.1  1.3  Iris-versicolor\n",
      "27   5.2  3.5  1.5  0.2      Iris-setosa\n",
      "77   6.7  3.0  5.0  1.7  Iris-versicolor\n",
      "128  6.4  2.8  5.6  2.1   Iris-virginica\n",
      "115  6.4  3.2  5.3  2.3   Iris-virginica\n",
      "3    4.6  3.1  1.5  0.2      Iris-setosa\n",
      "8    4.4  2.9  1.4  0.2      Iris-setosa\n",
      "9    4.9  3.1  1.5  0.1      Iris-setosa\n",
      "58   6.6  2.9  4.6  1.3  Iris-versicolor\n",
      "10   5.4  3.7  1.5  0.2      Iris-setosa\n",
      "53   5.5  2.3  4.0  1.3  Iris-versicolor\n",
      "42   4.4  3.2  1.3  0.2      Iris-setosa\n",
      "\n",
      "[120 rows x 5 columns]\n",
      "       X    Y    Z    K              Cat\n",
      "2    4.7  3.2  1.3  0.2      Iris-setosa\n",
      "6    4.6  3.4  1.4  0.3      Iris-setosa\n",
      "12   4.8  3.0  1.4  0.1      Iris-setosa\n",
      "14   5.8  4.0  1.2  0.2      Iris-setosa\n",
      "15   5.7  4.4  1.5  0.4      Iris-setosa\n",
      "18   5.7  3.8  1.7  0.3      Iris-setosa\n",
      "25   5.0  3.0  1.6  0.2      Iris-setosa\n",
      "28   5.2  3.4  1.4  0.2      Iris-setosa\n",
      "34   4.9  3.1  1.5  0.1      Iris-setosa\n",
      "45   4.8  3.0  1.4  0.3      Iris-setosa\n",
      "51   6.4  3.2  4.5  1.5  Iris-versicolor\n",
      "60   5.0  2.0  3.5  1.0  Iris-versicolor\n",
      "63   6.1  2.9  4.7  1.4  Iris-versicolor\n",
      "69   5.6  2.5  3.9  1.1  Iris-versicolor\n",
      "81   5.5  2.4  3.7  1.0  Iris-versicolor\n",
      "83   6.0  2.7  5.1  1.6  Iris-versicolor\n",
      "86   6.7  3.1  4.7  1.5  Iris-versicolor\n",
      "87   6.3  2.3  4.4  1.3  Iris-versicolor\n",
      "88   5.6  3.0  4.1  1.3  Iris-versicolor\n",
      "91   6.1  3.0  4.6  1.4  Iris-versicolor\n",
      "104  6.5  3.0  5.8  2.2   Iris-virginica\n",
      "107  7.3  2.9  6.3  1.8   Iris-virginica\n",
      "110  6.5  3.2  5.1  2.0   Iris-virginica\n",
      "114  5.8  2.8  5.1  2.4   Iris-virginica\n",
      "120  6.9  3.2  5.7  2.3   Iris-virginica\n",
      "123  6.3  2.7  4.9  1.8   Iris-virginica\n",
      "126  6.2  2.8  4.8  1.8   Iris-virginica\n",
      "136  6.3  3.4  5.6  2.4   Iris-virginica\n",
      "142  5.8  2.7  5.1  1.9   Iris-virginica\n",
      "149  5.9  3.0  5.1  1.8   Iris-virginica\n"
     ]
    }
   ],
   "source": [
    "df = pd.read_csv('D:/Python/iris.data.csv', header = None)\n",
    "df.columns=['X','Y','Z','K','Cat']\n",
    "\n",
    "dfData = df.sample(frac=.8)\n",
    "dfTest = df.loc[~df.index.isin(dfData.index)]\n",
    "print(dfData)\n",
    "print(dfTest)"
   ]
  },
  {
   "cell_type": "code",
   "execution_count": 37,
   "metadata": {
    "collapsed": false
   },
   "outputs": [
    {
     "data": {
      "text/plain": [
       "<seaborn.axisgrid.FacetGrid at 0x27e0a50f0b8>"
      ]
     },
     "execution_count": 37,
     "metadata": {},
     "output_type": "execute_result"
    },
    {
     "data": {
      "image/png": "[encoded data removed]",
      "text/plain": [
       "<matplotlib.figure.Figure at 0x27e0a50f1d0>"
      ]
     },
     "metadata": {},
     "output_type": "display_data"
    }
   ],
   "source": [
    "sns.lmplot('X','Z',data=df,hue='Cat',fit_reg=False)"
   ]
  },
  {
   "cell_type": "code",
   "execution_count": 38,
   "metadata": {
    "collapsed": false
   },
   "outputs": [
    {
     "data": {
      "text/plain": [
       "SVC(C=1.0, cache_size=200, class_weight=None, coef0=0.0,\n",
       "  decision_function_shape=None, degree=3, gamma='auto', kernel='rbf',\n",
       "  max_iter=-1, probability=False, random_state=None, shrinking=True,\n",
       "  tol=0.001, verbose=False)"
      ]
     },
     "execution_count": 38,
     "metadata": {},
     "output_type": "execute_result"
    }
   ],
   "source": [
    "dfDataX = dfData[['X','Y','Z','K']]\n",
    "dfDataY = dfData['Cat']\n",
    "\n",
    "clf = svm.SVC()\n",
    "clf.fit(dfDataX,dfDataY)"
   ]
  },
  {
   "cell_type": "code",
   "execution_count": 51,
   "metadata": {
    "collapsed": false
   },
   "outputs": [
    {
     "name": "stdout",
     "output_type": "stream",
     "text": [
      "Percent Correct: %93.33\n"
     ]
    }
   ],
   "source": [
    "dfTestX = dfTest[['X','Y','Z','K']]\n",
    "dfTestY = dfTest['Cat']\n",
    "\n",
    "clf2 = clf.predict(dfTestX)\n",
    "# print(clf2)\n",
    "dfTestY = dfTestY.tolist()\n",
    "\n",
    "correct = 0\n",
    "for i in range(0,len(clf2)):\n",
    "    if clf2[i] == dfTestY[i]:\n",
    "        correct += 1\n",
    "    \n",
    "print('Percent Correct: %{0:.2f}'.format(100*correct/len(clf2)))"
   ]
  }
 ],
 "metadata": {
  "kernelspec": {
   "display_name": "Python 3",
   "language": "python",
   "name": "python3"
  },
  "language_info": {
   "codemirror_mode": {
    "name": "ipython",
    "version": 3
   },
   "file_extension": ".py",
   "mimetype": "text/x-python",
   "name": "python",
   "nbconvert_exporter": "python",
   "pygments_lexer": "ipython3",
   "version": "3.6.0"
  }
 },
 "nbformat": 4,
 "nbformat_minor": 2
}
