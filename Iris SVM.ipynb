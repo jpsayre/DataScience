{
 "cells": [
  {
   "cell_type": "code",
   "execution_count": 52,
   "metadata": {
    "collapsed": false
   },
   "outputs": [],
   "source": [
    "import numpy as np\n",
    "import pandas as pd\n",
    "import matplotlib.pyplot as plt\n",
    "import seaborn as sns\n",
    "from sklearn import svm\n",
    "%matplotlib inline"
   ]
  },
  {
   "cell_type": "code",
   "execution_count": 53,
   "metadata": {
    "collapsed": false
   },
   "outputs": [],
   "source": [
    "df = pd.read_csv('D:/Python/iris.data.csv', header = None)\n",
    "df.columns=['X','Y','Z','K','Cat']\n",
    "\n",
    "dfData = df.sample(frac=.8)\n",
    "dfTest = df.loc[~df.index.isin(dfData.index)]\n",
    "# print(dfData)\n",
    "# print(dfTest)"
   ]
  },
  {
   "cell_type": "code",
   "execution_count": 54,
   "metadata": {
    "collapsed": false,
    "scrolled": true
   },
   "outputs": [],
   "source": [
    "# sns.lmplot('X','Z',data=df,hue='Cat',fit_reg=False)"
   ]
  },
  {
   "cell_type": "code",
   "execution_count": 55,
   "metadata": {
    "collapsed": false
   },
   "outputs": [
    {
     "data": {
      "text/plain": [
       "SVC(C=1.0, cache_size=200, class_weight=None, coef0=0.0,\n",
       "  decision_function_shape=None, degree=3, gamma='auto', kernel='rbf',\n",
       "  max_iter=-1, probability=False, random_state=None, shrinking=True,\n",
       "  tol=0.001, verbose=False)"
      ]
     },
     "execution_count": 55,
     "metadata": {},
     "output_type": "execute_result"
    }
   ],
   "source": [
    "dfDataX = dfData[['X','Y','Z','K']]\n",
    "dfDataY = dfData['Cat']\n",
    "\n",
    "clf = svm.SVC()\n",
    "clf.fit(dfDataX,dfDataY)"
   ]
  },
  {
   "cell_type": "code",
   "execution_count": 56,
   "metadata": {
    "collapsed": false
   },
   "outputs": [
    {
     "name": "stdout",
     "output_type": "stream",
     "text": [
      "Percent Correct: %100.00\n"
     ]
    }
   ],
   "source": [
    "dfTestX = dfTest[['X','Y','Z','K']]\n",
    "dfTestY = dfTest['Cat']\n",
    "\n",
    "clf2 = clf.predict(dfTestX)\n",
    "# print(clf2)\n",
    "dfTestY = dfTestY.tolist()\n",
    "\n",
    "correct = 0\n",
    "for i in range(0,len(clf2)):\n",
    "    if clf2[i] == dfTestY[i]:\n",
    "        correct += 1\n",
    "    \n",
    "print('Percent Correct: %{0:.2f}'.format(100*correct/len(clf2)))"
   ]
  }
 ],
 "metadata": {
  "kernelspec": {
   "display_name": "Python 3",
   "language": "python",
   "name": "python3"
  },
  "language_info": {
   "codemirror_mode": {
    "name": "ipython",
    "version": 3
   },
   "file_extension": ".py",
   "mimetype": "text/x-python",
   "name": "python",
   "nbconvert_exporter": "python",
   "pygments_lexer": "ipython3",
   "version": "3.6.0"
  }
 },
 "nbformat": 4,
 "nbformat_minor": 2
}
